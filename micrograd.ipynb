{
 "cells": [
  {
   "cell_type": "code",
   "execution_count": 1484,
   "id": "ba7be8dc-963a-435c-b225-031f913e3522",
   "metadata": {
    "tags": []
   },
   "outputs": [],
   "source": [
    "import math\n",
    "import random\n",
    "\n",
    "# A minimal autodiff engine\n",
    "class Value:\n",
    "    def __init__(self, data, _children=(), _op=''):\n",
    "        self.data = data\n",
    "        self.grad = 0.0\n",
    "        self._backward = lambda: None\n",
    "        self._prev = set(_children)\n",
    "        self._op = _op\n",
    "\n",
    "    def __repr__(self):\n",
    "        return f\"Value({self.data})\"\n",
    "\n",
    "    def __add__(self, other):\n",
    "        other = other if isinstance(other, Value) else Value(other)\n",
    "        out = Value(self.data + other.data, (self, other), '+')\n",
    "\n",
    "        def _backward():\n",
    "            self.grad += out.grad\n",
    "            other.grad += out.grad\n",
    "        out._backward = _backward\n",
    "        return out\n",
    "\n",
    "    def __neg__(self):\n",
    "        return self.data * -1 \n",
    "\n",
    "    def __sub__(self,other):\n",
    "        out = Value(self.data + (-other.data),(self,other),'-')\n",
    "        return out\n",
    "        \n",
    "\n",
    "    def __mul__(self, other):\n",
    "        other = other if isinstance(other, Value) else Value(other)\n",
    "        out = Value(self.data * other.data, (self, other), '*')\n",
    "\n",
    "        def _backward():\n",
    "            self.grad += other.data * out.grad\n",
    "            other.grad += self.data * out.grad\n",
    "        out._backward = _backward\n",
    "        return out\n",
    "\n",
    "    def __radd__(self, other): \n",
    "        return self + other\n",
    "        \n",
    "    def __rmul__(self, other): return self * other\n",
    "    def __neg__(self): return self * -1\n",
    "    def __sub__(self, other): return self + (-other)\n",
    "    def __rsub__(self, other): return other + (-self)\n",
    "    def __truediv__(self, other): return self * other**-1\n",
    "    \n",
    "    def __pow__(self, other):\n",
    "        assert isinstance(other, (int, float)), \"Only supporting int/float powers\"\n",
    "        out = Value(self.data ** other, (self,), f'**{other}')\n",
    "\n",
    "        def _backward():\n",
    "            self.grad += (other * self.data**(other - 1)) * out.grad\n",
    "        out._backward = _backward\n",
    "        return out\n",
    "\n",
    "    def tanh(self):\n",
    "        x = self.data\n",
    "        t = (math.exp(2*x) - 1) / (math.exp(2*x) + 1)\n",
    "        out = Value(t, (self,), 'tanh')\n",
    "\n",
    "        def _backward():\n",
    "            self.grad += (1 - t**2) * out.grad\n",
    "        out._backward = _backward\n",
    "        return out\n",
    "\n",
    "    def backward(self):\n",
    "        topo = []\n",
    "        visited = set()\n",
    "\n",
    "        def build(v):\n",
    "            if v not in visited:\n",
    "                visited.add(v)\n",
    "                for child in v._prev:\n",
    "                    build(child)\n",
    "                topo.append(v)\n",
    "        build(self)\n",
    "\n",
    "        self.grad = 1.0\n",
    "        for node in reversed(topo):\n",
    "            node._backward()\n"
   ]
  },
  {
   "cell_type": "code",
   "execution_count": 1486,
   "id": "b36dae68-3429-4f24-a0bf-6c8a6233b970",
   "metadata": {},
   "outputs": [
    {
     "data": {
      "text/plain": [
       "Value(0.7615941559557649)"
      ]
     },
     "execution_count": 1486,
     "metadata": {},
     "output_type": "execute_result"
    }
   ],
   "source": [
    "#Input values\n",
    "x1 = Value(2.0)\n",
    "x2 = Value(3.0)\n",
    "#Weights\n",
    "w1 = Value(-3.0)\n",
    "w2 = Value(2.0)\n",
    "#Bias\n",
    "b = Value(1)\n",
    "\n",
    "x1w1 = x1 * w1\n",
    "x2w2 = x2 * w2\n",
    "x1w1x2w2 = x1w1 + x2w2\n",
    "y = x1w1x2w2 + b\n",
    "z = y.tanh()\n",
    "z"
   ]
  },
  {
   "cell_type": "code",
   "execution_count": 1488,
   "id": "fbf164b3-d7ac-4881-8ab9-dbcfe7ade68d",
   "metadata": {},
   "outputs": [],
   "source": [
    "z.grad = 1\n",
    "z.backward()"
   ]
  },
  {
   "cell_type": "code",
   "execution_count": 1490,
   "id": "a1cc91a0-af42-4a01-837a-354c8b1a3836",
   "metadata": {},
   "outputs": [
    {
     "data": {
      "text/plain": [
       "0.41997434161402614"
      ]
     },
     "execution_count": 1490,
     "metadata": {},
     "output_type": "execute_result"
    }
   ],
   "source": [
    "y.grad"
   ]
  },
  {
   "cell_type": "code",
   "execution_count": 1492,
   "id": "b0c69bc7-20f2-4d85-8dae-e0d8b4c728a5",
   "metadata": {},
   "outputs": [],
   "source": [
    "class Neuron:\n",
    "    def __init__(self, nin):\n",
    "        self.w = [Value(random.uniform(-1, 1)) for _ in range(nin)]\n",
    "        self.b = Value(1.0)\n",
    "\n",
    "    def __call__(self, x):\n",
    "        act = sum((wi * xi for wi, xi in zip(self.w, x)), self.b)\n",
    "        return act.tanh()\n",
    "\n",
    "    def params(self):\n",
    "        return [self.b] + self.w\n",
    "        \n",
    "class Layer:\n",
    "    def __init__(self, nin, nout):\n",
    "        self.neurons = [Neuron(nin) for _ in range(nout)]\n",
    "\n",
    "    def __call__(self, x):\n",
    "        out = [neuron(x) for neuron in self.neurons]\n",
    "        return out if len(out) > 1 else out[0]\n",
    "\n",
    "    def params(self):\n",
    "        params = []\n",
    "        for neuron in self.neurons:\n",
    "            params.extend(neuron.params())\n",
    "\n",
    "        return params\n",
    "\n",
    "class MLP:\n",
    "    def __init__(self, nin, nouts):\n",
    "        sizes = [nin] + nouts\n",
    "        self.layers = [Layer(sizes[i], sizes[i + 1]) for i in range(len(nouts))]\n",
    "\n",
    "    def __call__(self, x):\n",
    "        for layer in self.layers:\n",
    "            x = layer(x)\n",
    "        return x\n",
    "\n",
    "    def params(self):\n",
    "        params = []\n",
    "        for layer in self.layers:\n",
    "            params.extend(layer.params())\n",
    "\n",
    "        return params\n",
    "\n",
    "mlp = MLP(3, [4, 4, 1])"
   ]
  },
  {
   "cell_type": "code",
   "execution_count": 1494,
   "id": "943bc9fe-438e-4d89-a6e4-9113716a7ab0",
   "metadata": {},
   "outputs": [],
   "source": [
    "xs = [[2, 3, -1], [3, -1, 0.5], [0.5, 1, 1], [1, 1, -1]]\n",
    "ys = [1.0, -1.0, -1.0, 1.0]\n",
    "ys_val = [Value(y) for y in ys]"
   ]
  },
  {
   "cell_type": "code",
   "execution_count": 1496,
   "id": "55e97f14-87c3-4415-b7bf-d7fc3733e54b",
   "metadata": {},
   "outputs": [
    {
     "data": {
      "text/plain": [
       "Value(4.6230394766078895)"
      ]
     },
     "execution_count": 1496,
     "metadata": {},
     "output_type": "execute_result"
    }
   ],
   "source": [
    "#mlp.params()\n",
    "y_preds = [mlp([Value(xi) for xi in x]) for x in xs]\n",
    "loss = sum((y_pred - y_true)**2 for y_pred, y_true in zip(y_preds, ys_val))\n",
    "loss"
   ]
  },
  {
   "cell_type": "code",
   "execution_count": 1498,
   "id": "4a90794a-563c-4fb4-ae91-9ad4e7ecd2a3",
   "metadata": {},
   "outputs": [],
   "source": [
    "loss.backward()"
   ]
  },
  {
   "cell_type": "code",
   "execution_count": 1500,
   "id": "c743997e-4888-4761-b8af-898757d06455",
   "metadata": {},
   "outputs": [],
   "source": [
    "for p in mlp.params():\n",
    "    p.data -= 0.01 * p.grad"
   ]
  },
  {
   "cell_type": "code",
   "execution_count": 1502,
   "id": "2ad26d5f-d850-4cbb-8b18-47747e09ecb0",
   "metadata": {},
   "outputs": [
    {
     "data": {
      "text/plain": [
       "[Value(0.8118385788410258),\n",
       " Value(0.9021864588180127),\n",
       " Value(-0.04292516981059815),\n",
       " Value(0.7690688381732776)]"
      ]
     },
     "execution_count": 1502,
     "metadata": {},
     "output_type": "execute_result"
    }
   ],
   "source": [
    "y_preds"
   ]
  },
  {
   "cell_type": "code",
   "execution_count": null,
   "id": "180d22f8-1e42-4bb6-b147-c31c25d9bb44",
   "metadata": {},
   "outputs": [],
   "source": []
  },
  {
   "cell_type": "code",
   "execution_count": null,
   "id": "386e51ea-e8bf-4ee8-8cf1-3d33491218e8",
   "metadata": {},
   "outputs": [],
   "source": []
  }
 ],
 "metadata": {
  "kernelspec": {
   "display_name": "Python 3 (ipykernel)",
   "language": "python",
   "name": "python3"
  },
  "language_info": {
   "codemirror_mode": {
    "name": "ipython",
    "version": 3
   },
   "file_extension": ".py",
   "mimetype": "text/x-python",
   "name": "python",
   "nbconvert_exporter": "python",
   "pygments_lexer": "ipython3",
   "version": "3.11.9"
  }
 },
 "nbformat": 4,
 "nbformat_minor": 5
}
